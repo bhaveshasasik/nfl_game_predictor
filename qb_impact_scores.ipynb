{
  "nbformat": 4,
  "nbformat_minor": 0,
  "metadata": {
    "colab": {
      "provenance": [],
      "toc_visible": true,
      "authorship_tag": "ABX9TyO0fbpLZbAoTxLd0EcyMfk6",
      "include_colab_link": true
    },
    "kernelspec": {
      "name": "python3",
      "display_name": "Python 3"
    },
    "language_info": {
      "name": "python"
    }
  },
  "cells": [
    {
      "cell_type": "markdown",
      "metadata": {
        "id": "view-in-github",
        "colab_type": "text"
      },
      "source": [
        "<a href=\"https://colab.research.google.com/github/bhaveshasasik/nfl_game_predictor/blob/main/qb_impact_scores.ipynb\" target=\"_parent\"><img src=\"https://colab.research.google.com/assets/colab-badge.svg\" alt=\"Open In Colab\"/></a>"
      ]
    },
    {
      "cell_type": "code",
      "execution_count": null,
      "metadata": {
        "id": "DSy6d8GtSgR9"
      },
      "outputs": [],
      "source": [
        "import pandas as pd\n",
        "import matplotlib.pyplot as plt\n",
        "import numpy as np\n",
        "from sklearn.preprocessing import MinMaxScaler\n",
        "import os"
      ]
    },
    {
      "cell_type": "code",
      "source": [
        "column_names = [\"Rk\", \"Player\", \"Age\", \"Team\", \"Pos\", \"G\", \"GS\", \"QBrec\", \"Cmp\", \"Att\",\n",
        "                \"Cmp%\", \"Yds\", \"TD\", \"TD%\", \"Int\", \"Int%\", \"1D\", \"Succ%\", \"Lng\", \"Y/A\",\n",
        "                \"AY/A\", \"Y/C\", \"Y/G\", \"Rate\", \"QBR\", \"Sk\", \"Sk Yds\", \"Sk%\", \"NY/A\",\n",
        "                \"ANY/A\", \"4QC\", \"GWD\"]\n",
        "\n",
        "data = pd.read_csv(\"sample_data/qb_stats.csv\", header=0, names=column_names)\n",
        "\n",
        "data.columns = data.columns.str.strip()\n",
        "\n",
        "# Check and adjust numeric columns\n",
        "numeric_columns = ['Yds', 'Cmp', 'Att', 'TD', 'Int', 'Rate', 'Succ%']\n",
        "numeric_columns = [col for col in numeric_columns if col in data.columns]  # Keep only valid columns\n",
        "\n",
        "# Convert to numeric, coercing errors to NaN\n",
        "data[numeric_columns] = data[numeric_columns].apply(pd.to_numeric, errors='coerce')\n",
        "\n",
        "# Display the first few rows\n",
        "data['Pos'] = data['Pos'].str.strip().str.upper()\n",
        "data = data[data['Pos'] == 'QB']\n",
        "print(data.head())\n"
      ],
      "metadata": {
        "colab": {
          "base_uri": "https://localhost:8080/"
        },
        "id": "sGxPCJh3Y8mJ",
        "outputId": "aa96db48-ce0f-45f7-f570-fa80a27c7f41"
      },
      "execution_count": null,
      "outputs": [
        {
          "output_type": "stream",
          "name": "stdout",
          "text": [
            "   Rk           Player  Age   Team Pos   G  GS   QBrec  Cmp    Att  ...  \\\n",
            "0   1  Tua Tagovailoa    25   MIA   QB  17  17  11-6-0  388  560.0  ...   \n",
            "1   2      Jared Goff    29   DET   QB  17  17  12-5-0  407  605.0  ...   \n",
            "2   3    Dak Prescott    30   DAL   QB  17  17  12-5-0  410  590.0  ...   \n",
            "3   4      Josh Allen    27   BUF   QB  17  17  11-6-0  385  579.0  ...   \n",
            "4   5     Brock Purdy    24   SFO   QB  16  16  12-4-0  308  444.0  ...   \n",
            "\n",
            "     Y/G   Rate   QBR  Sk  Sk Yds   Sk%  NY/A  ANY/A 4QC   GWD  \n",
            "0  272.0  101.1  60.8  29     171  4.92  7.56   7.48   2     2  \n",
            "1  269.1   97.9  60.3  30     197  4.72  6.89   6.99   2        \n",
            "2  265.6  105.9  72.7  39     255  6.20  6.77   7.28   2     3  \n",
            "3  253.3   92.2  69.6  24     152  3.98  6.89   6.51   2     4  \n",
            "4  267.5  113.0  72.8  28     153  5.93  8.74   9.01   0     0  \n",
            "\n",
            "[5 rows x 32 columns]\n"
          ]
        }
      ]
    },
    {
      "cell_type": "code",
      "source": [
        "data['Yards_per_Attempt'] = data['Yds'] / data['Att']\n",
        "data['Touchdowns_per_Attempt'] = data['TD'] / data['Att']\n",
        "data['Passing_Yards_per_Attempt'] = data['Yds'] / data['Att']\n",
        "data['Interceptions_per_Attempt'] = data['Int'] / data['Att']\n",
        "data['Success_Rate'] = data['Succ%'] / 100  # Assuming Succ% is a percentage\n",
        "data['Y/G'] = data['Y/G']\n"
      ],
      "metadata": {
        "id": "FfGzoECiZEsP"
      },
      "execution_count": null,
      "outputs": []
    },
    {
      "cell_type": "code",
      "source": [
        "metrics = ['Yards_per_Attempt', 'Touchdowns_per_Attempt', 'Passing_Yards_per_Attempt', 'Interceptions_per_Attempt', 'Success_Rate', 'Y/G']\n"
      ],
      "metadata": {
        "id": "Q_bzOOvKazL7"
      },
      "execution_count": null,
      "outputs": []
    },
    {
      "cell_type": "code",
      "source": [
        "data[metrics] = data[metrics].apply(pd.to_numeric, errors='coerce')  # Coerce strings to NaN\n",
        "data[metrics] = data[metrics].fillna(0)\n",
        "data[metrics] = data[metrics].replace([np.inf, -np.inf], np.nan)"
      ],
      "metadata": {
        "id": "sJ3DVVDff9Pl"
      },
      "execution_count": null,
      "outputs": []
    },
    {
      "cell_type": "code",
      "source": [
        "scaler = MinMaxScaler()\n",
        "#print(data.columns)\n",
        "#print(data[metrics])\n",
        "data[metrics] = scaler.fit_transform(data[metrics])"
      ],
      "metadata": {
        "id": "hjIyPQb9kPdg"
      },
      "execution_count": null,
      "outputs": []
    },
    {
      "cell_type": "code",
      "source": [
        "data['Impact_Score'] = (\n",
        "    0.4 * data['Yards_per_Attempt'] +      # Focus on yard efficiency\n",
        "    0.3 * data['Touchdowns_per_Attempt'] +  # Prioritize scoring ability\n",
        "    0.15 * data['Passing_Yards_per_Attempt'] +  # Adjust for passing contribution\n",
        "    0.05 * data['Interceptions_per_Attempt'] +  # Penalize interceptions slightly\n",
        "    0.05 * data['Success_Rate'] +         # Capture overall play success\n",
        "    0.05 * data['Y/G']                    # Account for consistency in yardage\n",
        ")"
      ],
      "metadata": {
        "id": "bEm7SuY6iBrL"
      },
      "execution_count": null,
      "outputs": []
    },
    {
      "cell_type": "code",
      "source": [
        "top_players_per_team = (\n",
        "    data.sort_values(by=['Team', 'Impact_Score'], ascending=[True, False])\n",
        "    .groupby('Team')\n",
        "    .head(1)\n",
        ")"
      ],
      "metadata": {
        "id": "qFWO9_zIiNVR"
      },
      "execution_count": null,
      "outputs": []
    },
    {
      "cell_type": "code",
      "source": [
        "print(\"Top Impactful Running Back per Team in 2023 based on Combined Impact Score:\\n\")\n",
        "print(top_players_per_team[['Team', 'Player', 'Att', 'Impact_Score', 'Yards_per_Attempt', 'Passing_Yards_per_Attempt', 'Interceptions_per_Attempt', 'Touchdowns_per_Attempt', 'Success_Rate', 'Y/G']])"
      ],
      "metadata": {
        "colab": {
          "base_uri": "https://localhost:8080/"
        },
        "id": "ol1sgzKHi138",
        "outputId": "48173dc5-4c1c-426c-dd20-0ba62dfdec70"
      },
      "execution_count": null,
      "outputs": [
        {
          "output_type": "stream",
          "name": "stdout",
          "text": [
            "Top Impactful Running Back per Team in 2023 based on Combined Impact Score:\n",
            "\n",
            "     Team               Player    Att  Impact_Score  Yards_per_Attempt  \\\n",
            "33   ARI         Kyler Murray   268.0      0.432966           0.453560   \n",
            "20   ATL       Desmond Ridder   388.0      0.431780           0.493870   \n",
            "14   BAL        Lamar Jackson   457.0      0.535120           0.543793   \n",
            "3    BUF           Josh Allen   579.0      0.512412           0.502497   \n",
            "54   CAR          Andy Dalton    58.0      0.385006           0.420550   \n",
            "21   CHI        Justin Fields   370.0      0.454582           0.467860   \n",
            "31   CIN        Jake Browning   243.0      0.522225           0.538316   \n",
            "34   CLE           Joe Flacco   204.0      0.585870           0.535241   \n",
            "2    DAL         Dak Prescott   590.0      0.555694           0.517178   \n",
            "18   DEN       Russell Wilson   447.0      0.504073           0.464055   \n",
            "1    DET           Jared Goff   605.0      0.515704           0.510945   \n",
            "6    GNB          Jordan Love   579.0      0.514762           0.485343   \n",
            "7    HOU          C.J. Stroud   499.0      0.525768           0.556248   \n",
            "50   IND   Anthony Richardson    84.0      0.419830           0.464125   \n",
            "9    JAX      Trevor Lawrence   564.0      0.454483           0.481119   \n",
            "5    KAN      Patrick Mahomes   597.0      0.478860           0.473426   \n",
            "17   LAC       Justin Herbert   456.0      0.463614           0.464379   \n",
            "69   LAR         Carson Wentz    24.0      0.577185           0.458896   \n",
            "39   LVR      Jimmy Garoppolo   169.0      0.462684           0.481769   \n",
            "0    MIA       Tua Tagovailoa   560.0      0.550225           0.557915   \n",
            "37   MIN         Nick Mullens   148.0      0.558981           0.596238   \n",
            "71   NOR          Taysom Hill    11.0      0.604310           0.509828   \n",
            "29   NWE            Mac Jones   345.0      0.382429           0.415198   \n",
            "42   NYG         Tommy DeVito   178.0      0.416518           0.417932   \n",
            "27   NYJ          Zach Wilson   368.0      0.352414           0.416973   \n",
            "13   PHI          Jalen Hurts   538.0      0.471596           0.484527   \n",
            "47   PIT        Mason Rudolph    74.0      0.546425           0.656501   \n",
            "15   SEA           Geno Smith   499.0      0.466739           0.490711   \n",
            "4    SFO          Brock Purdy   444.0      0.662323           0.651327   \n",
            "8    TAM       Baker Mayfield   566.0      0.491457           0.482762   \n",
            "73   TEN         Malik Willis     5.0      0.576021           1.000000   \n",
            "11   WAS           Sam Howell   612.0      0.416966           0.435656   \n",
            "22    2TM        Joshua Dobbs   417.0      0.377377           0.399248   \n",
            "\n",
            "    Passing_Yards_per_Attempt  Interceptions_per_Attempt  \\\n",
            "33                   0.453560                   0.074627   \n",
            "20                   0.493870                   0.123711   \n",
            "14                   0.543793                   0.061269   \n",
            "3                    0.502497                   0.124352   \n",
            "54                   0.420550                   0.000000   \n",
            "21                   0.467860                   0.097297   \n",
            "31                   0.538316                   0.115226   \n",
            "34                   0.535241                   0.156863   \n",
            "2                    0.517178                   0.061017   \n",
            "18                   0.464055                   0.071588   \n",
            "1                    0.510945                   0.079339   \n",
            "6                    0.485343                   0.075993   \n",
            "7                    0.556248                   0.040080   \n",
            "50                   0.464125                   0.047619   \n",
            "9                    0.481119                   0.099291   \n",
            "5                    0.473426                   0.093802   \n",
            "17                   0.464379                   0.061404   \n",
            "69                   0.458896                   0.166667   \n",
            "39                   0.481769                   0.213018   \n",
            "0                    0.557915                   0.100000   \n",
            "37                   0.596238                   0.216216   \n",
            "71                   0.509828                   0.000000   \n",
            "29                   0.415198                   0.139130   \n",
            "42                   0.417932                   0.067416   \n",
            "27                   0.416973                   0.076087   \n",
            "13                   0.484527                   0.111524   \n",
            "47                   0.656501                   0.000000   \n",
            "15                   0.490711                   0.072144   \n",
            "4                    0.651327                   0.099099   \n",
            "8                    0.482762                   0.070671   \n",
            "73                   1.000000                   0.000000   \n",
            "11                   0.435656                   0.137255   \n",
            "22                   0.399248                   0.095923   \n",
            "\n",
            "    Touchdowns_per_Attempt  Success_Rate       Y/G  \n",
            "33                0.410448         0.437  0.695854  \n",
            "20                0.340206         0.453  0.585087  \n",
            "14                0.577681         0.482  0.711324  \n",
            "3                 0.550950         0.507  0.783725  \n",
            "54                0.379310         0.426  0.372215  \n",
            "21                0.475676         0.384  0.609839  \n",
            "31                0.543210         0.483  0.665532  \n",
            "34                0.700980         0.467  1.000000  \n",
            "2                 0.671186         0.515  0.821782  \n",
            "18                0.639821         0.433  0.633354  \n",
            "1                 0.545455         0.509  0.832611  \n",
            "6                 0.607945         0.476  0.756807  \n",
            "7                 0.507014         0.467  0.847463  \n",
            "50                0.392857         0.440  0.446473  \n",
            "9                 0.409574         0.464  0.776609  \n",
            "5                 0.497487         0.482  0.808787  \n",
            "17                0.482456         0.462  0.745978  \n",
            "69                0.916667         0.577  0.252166  \n",
            "39                0.455621         0.475  0.532488  \n",
            "0                 0.569643         0.508  0.841584  \n",
            "37                0.520270         0.475  0.808168  \n",
            "71                1.000000         0.462  0.016089  \n",
            "29                0.318841         0.433  0.596225  \n",
            "42                0.494382         0.321  0.378403  \n",
            "27                0.239130         0.365  0.585705  \n",
            "13                0.470260         0.467  0.702042  \n",
            "47                0.445946         0.475  0.556312  \n",
            "15                0.440882         0.472  0.747525  \n",
            "4                 0.768018         0.547  0.827661  \n",
            "8                 0.544170         0.447  0.736077  \n",
            "73                0.000000         0.444  0.076423  \n",
            "11                0.377451         0.427  0.718131  \n",
            "22                0.342926         0.416  0.586324  \n"
          ]
        }
      ]
    },
    {
      "cell_type": "code",
      "source": [],
      "metadata": {
        "id": "bmt-pqg_jwcM"
      },
      "execution_count": null,
      "outputs": []
    }
  ]
}