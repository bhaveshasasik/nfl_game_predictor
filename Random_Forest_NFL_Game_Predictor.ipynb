{
  "nbformat": 4,
  "nbformat_minor": 0,
  "metadata": {
    "colab": {
      "provenance": [],
      "include_colab_link": true
    },
    "kernelspec": {
      "name": "python3",
      "display_name": "Python 3"
    },
    "language_info": {
      "name": "python"
    }
  },
  "cells": [
    {
      "cell_type": "markdown",
      "metadata": {
        "id": "view-in-github",
        "colab_type": "text"
      },
      "source": [
        "<a href=\"https://colab.research.google.com/github/bhaveshasasik/nfl_game_predictor/blob/main/Random_Forest_NFL_Game_Predictor.ipynb\" target=\"_parent\"><img src=\"https://colab.research.google.com/assets/colab-badge.svg\" alt=\"Open In Colab\"/></a>"
      ]
    },
    {
      "cell_type": "code",
      "source": [
        "import pandas as pd\n",
        "from sklearn.preprocessing import MinMaxScaler\n",
        "from sklearn.ensemble import RandomForestClassifier\n",
        "\n",
        "\n",
        "# Function to find most impactful running back\n",
        "def rb_func(file_path):\n",
        "    # Load data\n",
        "    data = pd.read_csv(file_path, header=1)\n",
        "\n",
        "    # Rename columns for easy access\n",
        "    data.columns = [\n",
        "        'Rk', 'Player', 'Tm', 'Age', 'Pos', 'G', 'GS', 'Att', 'Yds', 'TD',\n",
        "        '1D', 'Succ%', 'Lng', 'Y/A', 'Y/G', 'Fmb'\n",
        "    ]\n",
        "\n",
        "    # Filter for running backs with minimum attempts\n",
        "    data = data[(data['Pos'] == 'RB') & (data['Att'] >= 60)]\n",
        "\n",
        "    # Calculate additional metrics\n",
        "    data['Yards_per_Attempt'] = data['Yds'] / data['Att']\n",
        "    data['Touchdowns_per_Attempt'] = data['TD'] / data['Att']\n",
        "    data['Success_Rate'] = data['Succ%'] / 100  # Assuming Succ% is already a percentage\n",
        "\n",
        "    # Select metrics and normalize\n",
        "    metrics = ['Yards_per_Attempt', 'Touchdowns_per_Attempt', 'Success_Rate', 'Y/G']\n",
        "    scaler = MinMaxScaler()\n",
        "    data[metrics] = scaler.fit_transform(data[metrics])\n",
        "\n",
        "    # Calculate impact score\n",
        "    data['Impact_Score'] = (\n",
        "        0.4 * data['Yards_per_Attempt'] +\n",
        "        0.3 * data['Touchdowns_per_Attempt'] +\n",
        "        0.2 * data['Success_Rate'] +\n",
        "        0.1 * data['Y/G']\n",
        "    )\n",
        "\n",
        "    # Get top player per team\n",
        "    top_players_per_team = (\n",
        "        data.sort_values(by=['Tm', 'Impact_Score'], ascending=[True, False])\n",
        "        .groupby('Tm')\n",
        "        .head(1)\n",
        "    )\n",
        "\n",
        "    return top_players_per_team\n",
        "\n",
        "\n",
        "    # Return impactful players as a dictionary with team names\n",
        "\n",
        "    #return impactful_players\n",
        "\n"
      ],
      "metadata": {
        "id": "Ek-okcV-PMUF"
      },
      "execution_count": 26,
      "outputs": []
    },
    {
      "cell_type": "code",
      "source": [
        "def get_impactful(top_players):\n",
        "    impactful_players = {\n",
        "          row['Tm']: {\n",
        "              'Position': row['Pos'],\n",
        "              'Player': row['Player'],\n",
        "              'Impact_Score': row['Impact_Score']\n",
        "          }\n",
        "          for _, row in top_players.iterrows()\n",
        "      }\n",
        "    return impactful_players"
      ],
      "metadata": {
        "id": "tN8FhlkIzuzK"
      },
      "execution_count": 27,
      "outputs": []
    },
    {
      "cell_type": "code",
      "source": [
        "impactful_rb = rb_func('../2023 rushing stats.csv')\n",
        "\n",
        "sort_player = get_impactful(impactful_rb)\n",
        "print(sort_player)\n",
        "\n"
      ],
      "metadata": {
        "colab": {
          "base_uri": "https://localhost:8080/"
        },
        "id": "xOQ-jU8kxcho",
        "outputId": "aeff38ac-ec8d-4fa7-9efa-c9ba7c4f9218"
      },
      "execution_count": 28,
      "outputs": [
        {
          "output_type": "stream",
          "name": "stdout",
          "text": [
            "{'2TM': {'Position': 'RB', 'Player': 'Cam Akers', 'Impact_Score': 0.12730514096185735}, 'ARI': {'Position': 'RB', 'Player': 'James Conner', 'Impact_Score': 0.4835199881295264}, 'ATL': {'Position': 'RB', 'Player': 'Bijan Robinson', 'Impact_Score': 0.32359213802566994}, 'BAL': {'Position': 'RB', 'Player': 'Gus Edwards', 'Impact_Score': 0.5150651843467031}, 'BUF': {'Position': 'RB', 'Player': 'Latavius Murray', 'Impact_Score': 0.42558187338512193}, 'CAR': {'Position': 'RB', 'Player': 'Chuba Hubbard', 'Impact_Score': 0.2940749858651862}, 'CHI': {'Position': 'RB', 'Player': \"D'Onta Foreman\", 'Impact_Score': 0.39237034173318275}, 'CIN': {'Position': 'RB', 'Player': 'Joe Mixon', 'Impact_Score': 0.385267004982589}, 'CLE': {'Position': 'RB', 'Player': 'Kareem Hunt', 'Impact_Score': 0.3494676170360179}, 'DAL': {'Position': 'RB', 'Player': 'Tony Pollard', 'Impact_Score': 0.34571976049029}, 'DEN': {'Position': 'RB', 'Player': 'Jaleel McLaughlin', 'Impact_Score': 0.4068734918398893}, 'DET': {'Position': 'RB', 'Player': 'David Montgomery', 'Impact_Score': 0.5736769581317306}, 'GNB': {'Position': 'RB', 'Player': 'Aaron Jones', 'Impact_Score': 0.4520506144950196}, 'HOU': {'Position': 'RB', 'Player': 'Devin Singletary', 'Impact_Score': 0.3160059594065609}, 'IND': {'Position': 'RB', 'Player': 'Jonathan Taylor', 'Impact_Score': 0.4508790184678618}, 'JAX': {'Position': 'RB', 'Player': 'Travis Etienne', 'Impact_Score': 0.3383480343515408}, 'KAN': {'Position': 'RB', 'Player': 'Isiah Pacheco', 'Impact_Score': 0.4424693643077337}, 'LAC': {'Position': 'RB', 'Player': 'Austin Ekeler', 'Impact_Score': 0.2853997767975207}, 'LAR': {'Position': 'RB', 'Player': 'Kyren Williams*', 'Impact_Score': 0.6448785342578716}, 'LVR': {'Position': 'RB', 'Player': 'Zamir White', 'Impact_Score': 0.29110385664728694}, 'MIA': {'Position': 'RB', 'Player': \"De'Von Achane\", 'Impact_Score': 0.886144412779683}, 'MIN': {'Position': 'RB', 'Player': 'Ty Chandler', 'Impact_Score': 0.3317973903297206}, 'NOR': {'Position': 'RB', 'Player': 'Alvin Kamara', 'Impact_Score': 0.3292224210990461}, 'NWE': {'Position': 'RB', 'Player': 'Rhamondre Stevenson', 'Impact_Score': 0.33670968224229797}, 'NYG': {'Position': 'RB', 'Player': 'Saquon Barkley', 'Impact_Score': 0.2785124384455326}, 'NYJ': {'Position': 'RB', 'Player': 'Breece Hall', 'Impact_Score': 0.30002827964421863}, 'PHI': {'Position': 'RB', 'Player': \"D'Andre Swift*\", 'Impact_Score': 0.42486426620613}, 'PIT': {'Position': 'RB', 'Player': 'Jaylen Warren', 'Impact_Score': 0.4401302957620609}, 'SEA': {'Position': 'RB', 'Player': 'Kenneth Walker III', 'Impact_Score': 0.37791950928673124}, 'SFO': {'Position': 'RB', 'Player': 'Christian McCaffrey*+', 'Impact_Score': 0.622058454657582}, 'TAM': {'Position': 'RB', 'Player': 'Rachaad White', 'Impact_Score': 0.24239138963863685}, 'TEN': {'Position': 'RB', 'Player': 'Derrick Henry*', 'Impact_Score': 0.40942411057860634}, 'WAS': {'Position': 'RB', 'Player': 'Brian Robinson Jr.', 'Impact_Score': 0.3420714883630831}}\n"
          ]
        }
      ]
    },
    {
      "cell_type": "code",
      "source": [
        "def combine_impact_scores(qb_func, rb_func, wr_func, te_func, sft_func, cb_lb_func):\n",
        "    \"\"\"\n",
        "    Combines impact scores from multiple position-specific functions into one dictionary.\n",
        "\n",
        "    Parameters:\n",
        "        qb_func (function): Function to calculate QB impact scores.\n",
        "        rb_func (function): Function to calculate RB impact scores.\n",
        "        wr_func (function): Function to calculate WR impact scores.\n",
        "        te_func (function): Function to calculate TE impact scores.\n",
        "        sft_func (function): Function to calculate SFT impact scores.\n",
        "        cb_lb_func (function): Function to calculate CB/LB impact scores.\n",
        "\n",
        "    Returns:\n",
        "        dict: Combined dictionary with team-wise impact scores for all positions.\n",
        "    \"\"\"\n",
        "    # Call each position-specific function to get their impact dictionaries\n",
        "    qb_scores = qb_func()\n",
        "    rb_scores = rb_func()\n",
        "    wr_scores = wr_func()\n",
        "    te_scores = te_func()\n",
        "    sft_scores = sft_func()\n",
        "    cb_lb_scores = cb_lb_func()\n",
        "\n",
        "    # List of all score dictionaries\n",
        "    all_scores = [qb_scores, rb_scores, wr_scores, te_scores, sft_scores, cb_lb_scores]\n",
        "\n",
        "    # Initialize combined dictionary\n",
        "    combined_scores = {}\n",
        "\n",
        "    # Merge dictionaries\n",
        "    for scores in all_scores:\n",
        "        for team, player_data in scores.items():\n",
        "            if team not in combined_scores:\n",
        "                combined_scores[team] = []\n",
        "            combined_scores[team].append(player_data)\n",
        "\n",
        "    return combined_scores\n"
      ],
      "metadata": {
        "id": "jGh8GHptqes_"
      },
      "execution_count": null,
      "outputs": []
    },
    {
      "cell_type": "code",
      "source": [
        "\n",
        "# Function to process general team data (standings and win/loss records)\n",
        "def process_team_standings(file_path):\n",
        "    # Load data\n",
        "    standings = pd.read_csv(file_path)\n",
        "\n",
        "    # Calculate win percentage\n",
        "    standings['Win_Percentage'] = standings['Wins'] / (standings['Wins'] + standings['Losses'])\n",
        "\n",
        "    # Normalize win percentage\n",
        "    scaler = MinMaxScaler()\n",
        "    standings['Win_Percentage_Normalized'] = scaler.fit_transform(standings[['Win_Percentage']])\n",
        "\n",
        "    # Return standings data\n",
        "    team_data = standings[['Team', 'Win_Percentage_Normalized']].set_index('Team').to_dict('index')\n",
        "    return team_data\n",
        "\n",
        "# Combine impact scores and general team data\n",
        "def combine_team_data(rb_impact_data, team_data):\n",
        "    combined_data = []\n",
        "    for team, rb_info in rb_impact_data.items():\n",
        "        if team in team_data:\n",
        "            combined_data.append({\n",
        "                'Team': team,\n",
        "                'Impact_Score': rb_info['Impact_Score'],\n",
        "                'Win_Percentage': team_data[team]['Win_Percentage_Normalized']\n",
        "            })\n",
        "    return pd.DataFrame(combined_data)\n",
        "\n",
        "\n",
        "\n",
        "\n",
        "\n",
        "\n",
        "# Random forest model\n",
        "def train_random_forest(data):\n",
        "    # Prepare features and labels\n",
        "    X = data[['Impact_Score', 'Win_Percentage']]\n",
        "    y = data['Outcome']  # Binary outcome: 1 = Win, 0 = Loss\n",
        "\n",
        "    # Train random forest\n",
        "    rf = RandomForestClassifier(random_state=42)\n",
        "    rf.fit(X, y)\n",
        "\n",
        "    return rf\n",
        "\n",
        "# Example Usage\n",
        "if __name__ == \"__main__\":\n",
        "    # Calculate RB impact\n",
        "    rb_file_path = '2023_rushing_stats.csv'  # Path to rushing stats file\n",
        "    rb_impact = calculate_top_rb_impact(rb_file_path)\n",
        "    print(\"RB Impact:\", rb_impact)\n",
        "\n",
        "    # Process team standings\n",
        "    standings_file_path = 'team_standings.csv'  # Path to standings file\n",
        "    team_standings = process_team_standings(standings_file_path)\n",
        "    print(\"Team Standings:\", team_standings)\n",
        "\n",
        "    # Combine data\n",
        "    combined_data = combine_team_data(rb_impact, team_standings)\n",
        "    print(\"Combined Data:\", combined_data)\n",
        "\n",
        "    # Train random forest (assuming Outcome column is present in combined_data)\n",
        "    rf_model = train_random_forest(combined_data)\n",
        "    print(\"Random Forest Model Trained.\")\n"
      ],
      "metadata": {
        "id": "xeztIcgsqdpw"
      },
      "execution_count": null,
      "outputs": []
    }
  ]
}