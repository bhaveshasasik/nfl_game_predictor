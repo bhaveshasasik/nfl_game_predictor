{
  "nbformat": 4,
  "nbformat_minor": 0,
  "metadata": {
    "colab": {
      "provenance": [],
      "authorship_tag": "ABX9TyOOyvxoVMmY33Q20xbOjC85",
      "include_colab_link": true
    },
    "kernelspec": {
      "name": "python3",
      "display_name": "Python 3"
    },
    "language_info": {
      "name": "python"
    }
  },
  "cells": [
    {
      "cell_type": "markdown",
      "metadata": {
        "id": "view-in-github",
        "colab_type": "text"
      },
      "source": [
        "<a href=\"https://colab.research.google.com/github/bhaveshasasik/nfl_game_predictor/blob/main/safety_impact_score.ipynb\" target=\"_parent\"><img src=\"https://colab.research.google.com/assets/colab-badge.svg\" alt=\"Open In Colab\"/></a>"
      ]
    },
    {
      "cell_type": "code",
      "execution_count": null,
      "metadata": {
        "id": "mTC0Qw68yNDY"
      },
      "outputs": [],
      "source": [
        "import numpy as np\n",
        "import pandas as pd\n",
        "import matplotlib as plt\n",
        "from sklearn.preprocessing import MinMaxScaler\n",
        "import os"
      ]
    },
    {
      "cell_type": "code",
      "source": [
        "data = pd.read_csv('sample_data/safety_stats.csv')\n",
        "\n",
        "data = data[data[\"Pos\"] == \"S\"]\n",
        "\n",
        "#print(data.columns)\n",
        "print(data.head())"
      ],
      "metadata": {
        "colab": {
          "base_uri": "https://localhost:8080/"
        },
        "id": "V1tgXLtghjw9",
        "outputId": "bfc4edba-1089-418e-b7da-8dab0a052f6c"
      },
      "execution_count": null,
      "outputs": [
        {
          "output_type": "stream",
          "name": "stdout",
          "text": [
            "    Rk            Player  Age Team Pos   G  GS  Int  Yds  IntTD  ...  FR  \\\n",
            "3    4  Jessie Bates III   27  ATL   S  11  11    2    0      0  ...   1   \n",
            "4    5         Vonn Bell   30  CIN   S  11  11    1   32      0  ...   0   \n",
            "8    9      Jeremy Chinn   26  WAS   S  11  11    1    0      0  ...   2   \n",
            "9   10       Andre Cisco   24  JAX   S  11  11    1   22      0  ...   0   \n",
            "14  15        Nick Cross   23  IND   S  11  11    2   20      0  ...   0   \n",
            "\n",
            "    Yds.1  FRTD   Sk  Comb  Solo  Ast  TFL  QBHits  Sfty  \n",
            "3       0     0  0.0    70    42   28    1       0     0  \n",
            "4       0     0  0.0    48    20   28    1       1     0  \n",
            "8       0     0  0.0    80    51   29    3       0     0  \n",
            "9       0     0  0.0    51    33   18    0       0     0  \n",
            "14      0     0  0.0   102    63   39    2       0     0  \n",
            "\n",
            "[5 rows x 24 columns]\n"
          ]
        }
      ]
    },
    {
      "cell_type": "code",
      "source": [
        "data[\"Interceptions_Per_Game\"] = data[\"Int\"] / data[\"G\"]\n",
        "data[\"Passing_Defended_Per_Game\"] = data[\"PD\"] / data[\"G\"]\n",
        "data[\"Forced_Fumbles_Per_Game\"] = data[\"FF\"] / data[\"G\"]\n",
        "data[\"Defensive_Touchdowns_Per_Game\"] = data[\"IntTD\"] / data[\"G\"]\n",
        "data[\"Yards_From_Interceptions\"] = data[\"Yds\"] + data[\"Yds.1\"] / data[\"G\"]\n",
        "data[\"Solo_Per_Game\"] = data[\"Solo\"] / data[\"G\"]\n",
        "data[\"Ast_Per_Game\"] = data[\"Ast\"] / data[\"G\"]\n",
        "data[\"TFL_Per_Game\"] = data[\"TFL\"] / data[\"G\"]\n",
        "data[\"QBHits_Per_Game\"] = data[\"QBHits\"] / data[\"G\"]"
      ],
      "metadata": {
        "id": "rWsm7NRZiPq8"
      },
      "execution_count": null,
      "outputs": []
    },
    {
      "cell_type": "code",
      "source": [
        "metrics = [\"Interceptions_Per_Game\", \"Passing_Defended_Per_Game\", \"Forced_Fumbles_Per_Game\", \"Defensive_Touchdowns_Per_Game\", \"Yards_From_Interceptions\", \"Solo_Per_Game\", \"Ast_Per_Game\", \"TFL_Per_Game\", \"QBHits_Per_Game\"]"
      ],
      "metadata": {
        "id": "6ADLoaeanXc1"
      },
      "execution_count": null,
      "outputs": []
    },
    {
      "cell_type": "code",
      "source": [
        "scaler = MinMaxScaler()\n",
        "data[metrics] = scaler.fit_transform(data[metrics])"
      ],
      "metadata": {
        "id": "CDrREgTfoWMF"
      },
      "execution_count": null,
      "outputs": []
    },
    {
      "cell_type": "code",
      "source": [
        "data['Safety_Impact_Score'] = (\n",
        "    0.35 * data['Interceptions_Per_Game'] +\n",
        "    0.2 * data['Passing_Defended_Per_Game'] +\n",
        "    0.2 * (data['Solo_Per_Game'] + data['Ast_Per_Game']) +\n",
        "    0.15 * data['Defensive_Touchdowns_Per_Game'] +\n",
        "    0.1 * (data['TFL_Per_Game'] + data['QBHits_Per_Game'])\n",
        ")\n"
      ],
      "metadata": {
        "id": "os6HDkRwrcLg"
      },
      "execution_count": null,
      "outputs": []
    },
    {
      "cell_type": "code",
      "source": [
        "top_players_per_team = (\n",
        "    data.sort_values(by=['Team', 'Safety_Impact_Score'], ascending=[True, False])\n",
        "    .groupby('Team')\n",
        "    .head(1)\n",
        ")"
      ],
      "metadata": {
        "id": "R3qQn0xYtQ-x"
      },
      "execution_count": null,
      "outputs": []
    },
    {
      "cell_type": "code",
      "source": [
        "print(\"Top Impactful Safeties per Team in 2023 based on Combined Impact Score:\\n\")\n",
        "print(top_players_per_team[['Team', 'Player', 'Safety_Impact_Score']])"
      ],
      "metadata": {
        "colab": {
          "base_uri": "https://localhost:8080/"
        },
        "id": "EbKgb2rPta6L",
        "outputId": "46b9093a-9995-4119-cbb9-14d5de1855e1"
      },
      "execution_count": null,
      "outputs": [
        {
          "output_type": "stream",
          "name": "stdout",
          "text": [
            "Top Impactful Safeties per Team in 2023 based on Combined Impact Score:\n",
            "\n",
            "     Team                Player  Safety_Impact_Score\n",
            "992   2TM       Terrell Edmunds             0.043433\n",
            "212   ARI           Budda Baker             0.563993\n",
            "3     ATL      Jessie Bates III             0.475609\n",
            "24    BAL         Kyle Hamilton             0.547467\n",
            "318   BUF           Taylor Rapp             0.485643\n",
            "348   CAR          Xavier Woods             0.455471\n",
            "592   CHI        Jonathan Owens             0.013560\n",
            "61    CIN            Geno Stone             0.334381\n",
            "633   CLE          Grant Delpit             0.373441\n",
            "345   DAL        Donovan Wilson             0.389944\n",
            "280   DEN         Brandon Jones             0.425226\n",
            "284   DET          Kerby Joseph             0.895978\n",
            "297   GNB       Xavier McKinney             0.701686\n",
            "49    HOU           Jalen Pitre             0.537016\n",
            "14    IND            Nick Cross             0.538200\n",
            "776   JAX    Darnell Savage Jr.             0.313013\n",
            "319   KAN           Justin Reid             0.390922\n",
            "638   LAC          Derwin James             0.467696\n",
            "1190  LAR          John Johnson             0.527959\n",
            "301   LVR       Tre'von Moehrig             0.576171\n",
            "652   MIA          Jordan Poyer             0.271491\n",
            "231   MIN          Camryn Bynum             0.543620\n",
            "1149  NOR       Johnathan Abram             0.558112\n",
            "1073  NWE       Jabrill Peppers             0.478570\n",
            "651   NYG         Jason Pinnock             0.323870\n",
            "965   NYJ           Jalen Mills             0.466752\n",
            "221   PHI      Reed Blankenship             0.494644\n",
            "252   PIT        DeShon Elliott             0.474764\n",
            "751   SEA         K'Von Wallace             0.066033\n",
            "227   SFO         Ji'Ayir Brown             0.370302\n",
            "955   TAM  Antoine Winfield Jr.             0.498449\n",
            "267   TEN          Amani Hooker             0.586159\n",
            "8     WAS          Jeremy Chinn             0.402385\n"
          ]
        }
      ]
    },
    {
      "cell_type": "code",
      "source": [],
      "metadata": {
        "id": "T-yzc1ZCtpXR"
      },
      "execution_count": null,
      "outputs": []
    }
  ]
}