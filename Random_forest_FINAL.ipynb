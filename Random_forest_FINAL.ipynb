{
  "nbformat": 4,
  "nbformat_minor": 0,
  "metadata": {
    "colab": {
      "provenance": [],
      "include_colab_link": true
    },
    "kernelspec": {
      "name": "python3",
      "display_name": "Python 3"
    },
    "language_info": {
      "name": "python"
    }
  },
  "cells": [
    {
      "cell_type": "markdown",
      "metadata": {
        "id": "view-in-github",
        "colab_type": "text"
      },
      "source": [
        "<a href=\"https://colab.research.google.com/github/bhaveshasasik/nfl_game_predictor/blob/main/Random_forest_FINAL.ipynb\" target=\"_parent\"><img src=\"https://colab.research.google.com/assets/colab-badge.svg\" alt=\"Open In Colab\"/></a>"
      ]
    },
    {
      "cell_type": "code",
      "source": [
        "import pandas as pd\n",
        "from sklearn.preprocessing import MinMaxScaler\n",
        "from sklearn.ensemble import RandomForestClassifier\n",
        "import numpy as np\n",
        "import os"
      ],
      "metadata": {
        "id": "bWM3JFfn0VpE"
      },
      "execution_count": null,
      "outputs": []
    },
    {
      "cell_type": "code",
      "source": [
        "from sklearn.ensemble import RandomForestClassifier\n",
        "from sklearn.preprocessing import StandardScaler\n",
        "import pandas as pd\n",
        "\n",
        "def preprocess_all_files(file_paths):\n",
        "    # Combine all team data into one DataFrame\n",
        "    all_data = []\n",
        "    for file_path in file_paths:\n",
        "        data = pd.read_csv(file_path)\n",
        "\n",
        "        # Preprocess the file similar to preprocess_schedule\n",
        "        data = data[data['Unnamed: 0'] != 'Week']  # Remove unnecessary rows\n",
        "        data.rename(columns={\n",
        "            'Score': 'Team_Points',\n",
        "            'Score.1': 'Opponent_Points',\n",
        "            'Offense': 'Team_TotalYards',\n",
        "            'Offense.1': 'Team_PassYards',\n",
        "            'Offense.2': 'Team_RushYards',\n",
        "            'Offense.3': 'Team_Turnovers',\n",
        "            'Defense': 'Opponent_TotalYards',\n",
        "            'Defense.1': 'Opponent_PassYards',\n",
        "            'Defense.2': 'Opponent_RushYards',\n",
        "            'Defense.3': 'Opponent_Turnovers'\n",
        "        }, inplace=True)\n",
        "        numeric_cols = [\n",
        "            'Team_Points', 'Opponent_Points', 'Team_TotalYards', 'Team_PassYards',\n",
        "            'Team_RushYards', 'Team_Turnovers', 'Opponent_TotalYards',\n",
        "            'Opponent_PassYards', 'Opponent_RushYards', 'Opponent_Turnovers'\n",
        "        ]\n",
        "        for col in numeric_cols:\n",
        "            data[col] = pd.to_numeric(data[col], errors='coerce')\n",
        "        data = data.dropna(subset=numeric_cols)\n",
        "\n",
        "        # Add team and opponent identifiers\n",
        "        data['Team'] = file_path.split('/')[-1].split('_')[0]  # Extract team name from filename\n",
        "        all_data.append(data)\n",
        "\n",
        "    combined_data = pd.concat(all_data, ignore_index=True)\n",
        "    return combined_data\n",
        "\n",
        "def train_combined_model(combined_data):\n",
        "    # Prepare features and labels\n",
        "    features = ['Team_TotalYards', 'Team_PassYards', 'Team_RushYards', 'Team_Turnovers',\n",
        "                'Opponent_TotalYards', 'Opponent_PassYards', 'Opponent_RushYards', 'Opponent_Turnovers']\n",
        "    combined_data['Outcome'] = (combined_data['Team_Points'] > combined_data['Opponent_Points']).astype(int)\n",
        "    X = combined_data[features]\n",
        "    y = combined_data['Outcome']\n",
        "\n",
        "    # Normalize features\n",
        "    scaler = StandardScaler()\n",
        "    X = scaler.fit_transform(X)\n",
        "\n",
        "    # Train model\n",
        "    model = RandomForestClassifier(random_state=42)\n",
        "    model.fit(X, y)\n",
        "    return model, combined_data, scaler\n",
        "\n",
        "def predict_matchup(model, combined_data, scaler, team_a, team_b):\n",
        "    # Get stats for the two teams\n",
        "    team_a_stats = combined_data[combined_data['Team'] == team_a].iloc[0][\n",
        "        ['Team_TotalYards', 'Team_PassYards', 'Team_RushYards', 'Team_Turnovers']\n",
        "    ].tolist()\n",
        "    team_b_stats = combined_data[combined_data['Team'] == team_b].iloc[0][\n",
        "        ['Team_TotalYards', 'Team_PassYards', 'Team_RushYards', 'Team_Turnovers']\n",
        "    ].tolist()\n",
        "\n",
        "    # Combine stats for prediction\n",
        "    matchup_stats = pd.DataFrame([team_a_stats + team_b_stats], columns=[\n",
        "        'Team_TotalYards', 'Team_PassYards', 'Team_RushYards', 'Team_Turnovers',\n",
        "        'Opponent_TotalYards', 'Opponent_PassYards', 'Opponent_RushYards', 'Opponent_Turnovers'\n",
        "    ])\n",
        "    matchup_stats = scaler.transform(matchup_stats)\n",
        "\n",
        "    # Predict outcome\n",
        "    prediction = model.predict(matchup_stats)\n",
        "    probability = model.predict_proba(matchup_stats)[0][1]\n",
        "    outcome = team_a if prediction[0] == 1 else team_b\n",
        "    print(f\"Predicted Winner: {outcome}\")\n",
        "    print(f\"Confidence: {probability:.2f}\")\n",
        "    return outcome, probability\n",
        "\n",
        "file_paths = [\n",
        "    '../bears_data.csv',\n",
        "    '../bengals_data.csv',\n",
        "    '../bills_data.csv',\n",
        "    '../broncos_data.csv',\n",
        "    '../browns_data.csv',\n",
        "    '../buccaneers_data.csv',\n",
        "    '../cardinals_data.csv',\n",
        "    '../chargers_data.csv',\n",
        "    '../chiefs_data.csv',\n",
        "    '../colts_data.csv',\n",
        "    '../commanders_data.csv',\n",
        "    '../cowboys_data.csv',\n",
        "    '../dolphins_data.csv',\n",
        "    '../eagles_data.csv',\n",
        "    '../falcons_data.csv',\n",
        "    '../giants_data.csv',\n",
        "    '../jaguars_data.csv',\n",
        "    '../jets_data.csv',\n",
        "    '../lions_data.csv',\n",
        "    '../packers_data.csv',\n",
        "    '../panthers_data.csv',\n",
        "    '../patriots_data.csv',\n",
        "    '../raiders_data.csv',\n",
        "    '../rams_data.csv',\n",
        "    '../ravens_data.csv',\n",
        "    '../saints_data.csv',\n",
        "    '../seahawks_data.csv',\n",
        "    '../steelers_data.csv',\n",
        "    '../texans_data.csv',\n",
        "    '../titans_data.csv',\n",
        "    '../vikings_data.csv',\n",
        "    '../49ers_data.csv'\n",
        "]\n",
        "\n",
        "# Preprocess all files and train model\n",
        "combined_data = preprocess_all_files(file_paths)\n",
        "model, combined_data, scaler = train_combined_model(combined_data)\n",
        "\n",
        "# Predict matchup\n",
        "team_a = \"ravens\"\n",
        "team_b = \"panthers\"\n",
        "predict_matchup(model, combined_data, scaler, team_a, team_b)\n"
      ],
      "metadata": {
        "colab": {
          "base_uri": "https://localhost:8080/"
        },
        "id": "cdK-3I2tpNKg",
        "outputId": "59b7f860-4c99-4a48-8eeb-09256d5d6728"
      },
      "execution_count": 29,
      "outputs": [
        {
          "output_type": "stream",
          "name": "stdout",
          "text": [
            "Predicted Winner: ravens\n",
            "Confidence: 0.61\n"
          ]
        },
        {
          "output_type": "execute_result",
          "data": {
            "text/plain": [
              "('ravens', 0.61)"
            ]
          },
          "metadata": {},
          "execution_count": 29
        }
      ]
    },
    {
      "cell_type": "code",
      "source": [],
      "metadata": {
        "id": "0b6Se7pZraEP"
      },
      "execution_count": null,
      "outputs": []
    }
  ]
}