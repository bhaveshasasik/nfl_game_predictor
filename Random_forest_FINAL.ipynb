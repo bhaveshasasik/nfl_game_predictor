{
  "nbformat": 4,
  "nbformat_minor": 0,
  "metadata": {
    "colab": {
      "provenance": [],
      "include_colab_link": true
    },
    "kernelspec": {
      "name": "python3",
      "display_name": "Python 3"
    },
    "language_info": {
      "name": "python"
    }
  },
  "cells": [
    {
      "cell_type": "markdown",
      "metadata": {
        "id": "view-in-github",
        "colab_type": "text"
      },
      "source": [
        "<a href=\"https://colab.research.google.com/github/bhaveshasasik/nfl_game_predictor/blob/main/Random_forest_FINAL.ipynb\" target=\"_parent\"><img src=\"https://colab.research.google.com/assets/colab-badge.svg\" alt=\"Open In Colab\"/></a>"
      ]
    },
    {
      "cell_type": "code",
      "source": [
        "import pandas as pd\n",
        "from sklearn.preprocessing import MinMaxScaler\n",
        "from sklearn.ensemble import RandomForestClassifier\n",
        "import numpy as np\n",
        "import os"
      ],
      "metadata": {
        "id": "bWM3JFfn0VpE"
      },
      "execution_count": null,
      "outputs": []
    },
    {
      "cell_type": "code",
      "source": [
        "from sklearn.ensemble import RandomForestClassifier\n",
        "from sklearn.preprocessing import StandardScaler\n",
        "from sklearn.metrics import accuracy_score, precision_score, recall_score, f1_score, roc_auc_score, classification_report\n",
        "from sklearn.model_selection import train_test_split\n",
        "import pandas as pd\n",
        "\n",
        "def preprocess_all_files(file_paths):\n",
        "    all_data = []\n",
        "    for file_path in file_paths:\n",
        "        data = pd.read_csv(file_path)\n",
        "        data = data[data['Unnamed: 0'] != 'Week']\n",
        "        data.rename(columns={\n",
        "            'Score': 'Team_Points',\n",
        "            'Score.1': 'Opponent_Points',\n",
        "            'Offense': 'Team_TotalYards',\n",
        "            'Offense.1': 'Team_PassYards',\n",
        "            'Offense.2': 'Team_RushYards',\n",
        "            'Offense.3': 'Team_Turnovers',\n",
        "            'Defense': 'Opponent_TotalYards',\n",
        "            'Defense.1': 'Opponent_PassYards',\n",
        "            'Defense.2': 'Opponent_RushYards',\n",
        "            'Defense.3': 'Opponent_Turnovers'\n",
        "        }, inplace=True)\n",
        "        numeric_cols = [\n",
        "            'Team_Points', 'Opponent_Points', 'Team_TotalYards', 'Team_PassYards',\n",
        "            'Team_RushYards', 'Team_Turnovers', 'Opponent_TotalYards',\n",
        "            'Opponent_PassYards', 'Opponent_RushYards', 'Opponent_Turnovers'\n",
        "        ]\n",
        "        for col in numeric_cols:\n",
        "            data[col] = pd.to_numeric(data[col], errors='coerce')\n",
        "        data = data.dropna(subset=numeric_cols)\n",
        "        data['Team'] = file_path.split('/')[-1].split('_')[0]\n",
        "        data['Home_Field'] = (data['Unnamed: 0'] == 'Home').astype(int)  # Add home-field advantage as binary\n",
        "        all_data.append(data)\n",
        "    combined_data = pd.concat(all_data, ignore_index=True)\n",
        "    return combined_data\n",
        "\n",
        "def train_and_evaluate_model(combined_data):\n",
        "    features = ['Team_TotalYards', 'Team_PassYards', 'Team_RushYards', 'Team_Turnovers',\n",
        "                'Opponent_TotalYards', 'Opponent_PassYards', 'Opponent_RushYards', 'Opponent_Turnovers', 'Home_Field']\n",
        "    combined_data['Outcome'] = (combined_data['Team_Points'] > combined_data['Opponent_Points']).astype(int)\n",
        "    X = combined_data[features]\n",
        "    y = combined_data['Outcome']\n",
        "\n",
        "    # Split data into train and test sets\n",
        "    X_train, X_test, y_train, y_test = train_test_split(X, y, test_size=0.3, random_state=42, stratify=y)\n",
        "\n",
        "    # Normalize features\n",
        "    scaler = StandardScaler()\n",
        "    X_train = scaler.fit_transform(X_train)\n",
        "    X_test = scaler.transform(X_test)\n",
        "\n",
        "    # Train model\n",
        "    model = RandomForestClassifier(random_state=42)\n",
        "    model.fit(X_train, y_train)\n",
        "\n",
        "    # Predict on test set\n",
        "    y_pred = model.predict(X_test)\n",
        "    y_proba = model.predict_proba(X_test)[:, 1]\n",
        "\n",
        "    # Print metrics\n",
        "    print(\"Accuracy:\", accuracy_score(y_test, y_pred))\n",
        "    print(\"Precision:\", precision_score(y_test, y_pred))\n",
        "    print(\"Recall:\", recall_score(y_test, y_pred))\n",
        "    print(\"F1 Score:\", f1_score(y_test, y_pred))\n",
        "    print(\"ROC AUC Score:\", roc_auc_score(y_test, y_proba))\n",
        "    #print(\"\\nClassification Report:\\n\", classification_report(y_test, y_pred))\n",
        "\n",
        "    return model, combined_data, scaler\n",
        "\n",
        "def predict_matchup(model, combined_data, scaler, team_a, team_b, home_team):\n",
        "    team_a_stats = combined_data[combined_data['Team'] == team_a].iloc[0][\n",
        "        ['Team_TotalYards', 'Team_PassYards', 'Team_RushYards', 'Team_Turnovers']\n",
        "    ].tolist()\n",
        "    team_b_stats = combined_data[combined_data['Team'] == team_b].iloc[0][\n",
        "        ['Team_TotalYards', 'Team_PassYards', 'Team_RushYards', 'Team_Turnovers']\n",
        "    ].tolist()\n",
        "    home_field = 1 if home_team == team_a else 0\n",
        "\n",
        "    matchup_stats = pd.DataFrame([team_a_stats + team_b_stats + [home_field]], columns=[\n",
        "        'Team_TotalYards', 'Team_PassYards', 'Team_RushYards', 'Team_Turnovers',\n",
        "        'Opponent_TotalYards', 'Opponent_PassYards', 'Opponent_RushYards', 'Opponent_Turnovers', 'Home_Field'\n",
        "    ])\n",
        "    matchup_stats = scaler.transform(matchup_stats)\n",
        "    prediction = model.predict(matchup_stats)\n",
        "    probability = model.predict_proba(matchup_stats)[0][1]\n",
        "    outcome = team_a if prediction[0] == 1 else team_b\n",
        "    print(f\"Predicted Winner: {outcome}\")\n",
        "    print(f\"Confidence: {probability:.2f}\")\n",
        "    return outcome, probability\n",
        "\n",
        "file_paths = [\n",
        "    'bears_data.csv',\n",
        "    'bengals_data.csv',\n",
        "    'bills_data.csv',\n",
        "    'broncos_data.csv',\n",
        "    'browns_data.csv',\n",
        "    'buccaneers_data.csv',\n",
        "    'cardinals_data.csv',\n",
        "    'chargers_data.csv',\n",
        "    'chiefs_data.csv',\n",
        "    'colts_data.csv',\n",
        "    'commanders_data.csv',\n",
        "    'cowboys_data.csv',\n",
        "    'dolphins_data.csv',\n",
        "    'eagles_data.csv',\n",
        "    'falcons_data.csv',\n",
        "    'giants_data.csv',\n",
        "    'jaguars_data.csv',\n",
        "    'jets_data.csv',\n",
        "    'lions_data.csv',\n",
        "    'packers_data.csv',\n",
        "    'panthers_data.csv',\n",
        "    'patriots_data.csv',\n",
        "    'raiders_data.csv',\n",
        "    'rams_data.csv',\n",
        "    'ravens_data.csv',\n",
        "    'saints_data.csv',\n",
        "    'seahawks_data.csv',\n",
        "    'steelers_data.csv',\n",
        "    'texans_data.csv',\n",
        "    'titans_data.csv',\n",
        "    'vikings_data.csv',\n",
        "    '49ers_data.csv'\n",
        "]\n",
        "\n",
        "# Preprocess all files and train model\n",
        "combined_data = preprocess_all_files(file_paths)\n",
        "model, combined_data, scaler = train_and_evaluate_model(combined_data)\n",
        "\n",
        "\n",
        "# Predict matchup\n",
        "team_a = \"texans\"\n",
        "team_b = \"steelers\"\n",
        "home_team = \"steelers\"  # Specify which team has home-field advantage\n",
        "predict_matchup(model, combined_data, scaler, team_a, team_b, home_team)\n"
      ],
      "metadata": {
        "colab": {
          "base_uri": "https://localhost:8080/"
        },
        "id": "3nkA4AQ9LZxn",
        "outputId": "57e844c8-b30d-4470-af63-8c9e20d11c29"
      },
      "execution_count": 6,
      "outputs": [
        {
          "output_type": "stream",
          "name": "stdout",
          "text": [
            "Accuracy: 0.6235294117647059\n",
            "Precision: 0.6309523809523809\n",
            "Recall: 0.6162790697674418\n",
            "F1 Score: 0.6235294117647059\n",
            "ROC AUC Score: 0.7323504983388704\n",
            "Predicted Winner: steelers\n",
            "Confidence: 0.25\n"
          ]
        },
        {
          "output_type": "execute_result",
          "data": {
            "text/plain": [
              "('steelers', 0.25)"
            ]
          },
          "metadata": {},
          "execution_count": 6
        }
      ]
    },
    {
      "cell_type": "code",
      "source": [],
      "metadata": {
        "id": "zrg-JEKELggW"
      },
      "execution_count": null,
      "outputs": []
    }
  ]
}